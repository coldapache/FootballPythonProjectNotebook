{
  "nbformat": 4,
  "nbformat_minor": 0,
  "metadata": {
    "colab": {
      "provenance": []
    },
    "kernelspec": {
      "name": "python3",
      "display_name": "Python 3"
    },
    "language_info": {
      "name": "python"
    }
  },
  "cells": [
    {
      "cell_type": "code",
      "execution_count": 1,
      "metadata": {
        "colab": {
          "base_uri": "https://localhost:8080/"
        },
        "id": "xgU06te6NnRv",
        "outputId": "8751606a-b813-41a1-aba6-4232df606463"
      },
      "outputs": [
        {
          "output_type": "stream",
          "name": "stdout",
          "text": [
            "  Play Type  Down  Yards To Go  Yards Gained           Passer  \\\n",
            "0      Pass     1           10             7        Tom Brady   \n",
            "1       Run     2            5             3      Eli Manning   \n",
            "2      Pass     3            7             5    Aaron Rodgers   \n",
            "3       Run     4            3             2       Drew Brees   \n",
            "4      Pass     1            8             9  Patrick Mahomes   \n",
            "\n",
            "            Receiver                 Rusher      Result  \n",
            "0     Julian Edelman            Sony Michel  First Down  \n",
            "1  Odell Beckham Jr.         Saquon Barkley  First Down  \n",
            "2      Davante Adams            Aaron Jones  Incomplete  \n",
            "3     Michael Thomas           Alvin Kamara  Incomplete  \n",
            "4        Tyreek Hill  Clyde Edwards-Helaire   Touchdown  \n"
          ]
        }
      ],
      "source": [
        "import pandas as pd\n",
        "import seaborn as sns\n",
        "\n",
        "# Create a DataFrame with fake football play data\n",
        "data = pd.DataFrame({\n",
        "    \"Play Type\": [\"Pass\", \"Run\", \"Pass\", \"Run\", \"Pass\"],\n",
        "    \"Down\": [1, 2, 3, 4, 1],\n",
        "    \"Yards To Go\": [10, 5, 7, 3, 8],\n",
        "    \"Yards Gained\": [7, 3, 5, 2, 9],\n",
        "    \"Passer\": [\"Tom Brady\", \"Eli Manning\", \"Aaron Rodgers\", \"Drew Brees\", \"Patrick Mahomes\"],\n",
        "    \"Receiver\": [\"Julian Edelman\", \"Odell Beckham Jr.\", \"Davante Adams\", \"Michael Thomas\", \"Tyreek Hill\"],\n",
        "    \"Rusher\": [\"Sony Michel\", \"Saquon Barkley\", \"Aaron Jones\", \"Alvin Kamara\", \"Clyde Edwards-Helaire\"],\n",
        "    \"Result\": [\"First Down\", \"First Down\", \"Incomplete\", \"Incomplete\", \"Touchdown\"]\n",
        "})\n",
        "\n",
        "# Print the DataFrame to the console\n",
        "print(data)"
      ]
    },
    {
      "cell_type": "code",
      "source": [
        "#total yards gained\n",
        "chart = sns.barplot(x=\"Play Type\", y=\"Yards Gained\", data=data)"
      ],
      "metadata": {
        "colab": {
          "base_uri": "https://localhost:8080/",
          "height": 279
        },
        "id": "rYxGGloPNwxs",
        "outputId": "408556f1-f768-4ae7-b414-32ca58f84fa7"
      },
      "execution_count": 2,
      "outputs": [
        {
          "output_type": "display_data",
          "data": {
            "text/plain": [
              "<Figure size 432x288 with 1 Axes>"
            ],
            "image/png": "[encoded data removed]"
          },
          "metadata": {
            "needs_background": "light"
          }
        }
      ]
    },
    {
      "cell_type": "code",
      "source": [
        "# Group the data by player and calculate the total passing yards gained for each player\n",
        "player_data = data.groupby(\"Passer\")[\"Yards Gained\"].sum()\n",
        "\n",
        "# Create a chart of the pass values\n",
        "passchart = sns.barplot(x=player_data.index, y=player_data.values)\n",
        "\n",
        "\n",
        "#refines the chart so that the labels are tilted\n",
        "import matplotlib.pyplot as plt\n",
        "plt.xticks(rotation=45)"
      ],
      "metadata": {
        "colab": {
          "base_uri": "https://localhost:8080/",
          "height": 354
        },
        "id": "j6efe0ZHN-QK",
        "outputId": "d502ac25-d228-4318-9f58-dea7c8d033e8"
      },
      "execution_count": 7,
      "outputs": [
        {
          "output_type": "execute_result",
          "data": {
            "text/plain": [
              "(array([0, 1, 2, 3, 4]), <a list of 5 Text major ticklabel objects>)"
            ]
          },
          "metadata": {},
          "execution_count": 7
        },
        {
          "output_type": "display_data",
          "data": {
            "text/plain": [
              "<Figure size 432x288 with 1 Axes>"
            ],
            "image/png": "[encoded data removed]"
          },
          "metadata": {
            "needs_background": "light"
          }
        }
      ]
    },
    {
      "cell_type": "code",
      "source": [
        "# Group the data by player and calculate the total passing yards gained for each player\n",
        "player_data = data.groupby(\"Down\")[\"Yards Gained\"].sum()\n",
        "\n",
        "# Create a chart of the down yards gained values\n",
        "downchart = sns.barplot(x=player_data.index, y=player_data.values)\n",
        "\n",
        "\n",
        "#refines the chart so that the labels are tilted\n",
        "import matplotlib.pyplot as plt\n",
        "plt.xticks(rotation=45)"
      ],
      "metadata": {
        "colab": {
          "base_uri": "https://localhost:8080/",
          "height": 298
        },
        "id": "T8QHMOCDSYhk",
        "outputId": "0dbc2910-15b1-4614-a3b7-ccba5d91ca8d"
      },
      "execution_count": 8,
      "outputs": [
        {
          "output_type": "execute_result",
          "data": {
            "text/plain": [
              "(array([0, 1, 2, 3]), <a list of 4 Text major ticklabel objects>)"
            ]
          },
          "metadata": {},
          "execution_count": 8
        },
        {
          "output_type": "display_data",
          "data": {
            "text/plain": [
              "<Figure size 432x288 with 1 Axes>"
            ],
            "image/png": "[encoded data removed]"
          },
          "metadata": {
            "needs_background": "light"
          }
        }
      ]
    }
  ]
}